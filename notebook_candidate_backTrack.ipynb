{
 "cells": [
  {
   "cell_type": "code",
   "execution_count": 2,
   "metadata": {},
   "outputs": [],
   "source": [
    "#minimal requirements\n",
    "#python >= 3.6\n",
    "#pandas >= 1\n",
    "\n",
    "import numpy as np\n",
    "import pandas as pd\n",
    "from typing import Dict\n",
    "from functools import lru_cache\n",
    "from operator import itemgetter\n",
    "from collections import Counter"
   ]
  },
  {
   "cell_type": "markdown",
   "metadata": {},
   "source": [
    "You have<br>\n",
    "* a ribbon of length 'LENGTH' meters (the problem is 1D).<br>\n",
    "* defects that lies on the ribbon. Each defect has<br>\n",
    "    * a position `x`<br>\n",
    "    * and a class [`a`, `b`, `c`, ...]<br>\n",
    "* set of available products. Each product can be produced an infinite number of times, and has:<br>\n",
    "    * a size (along the same dimension as the ribbon)<br>\n",
    "    * a value (see next paragraph)<br>\n",
    "    * and a threshold for the maximum number of defects of each size it can contains<br>\n",
    "<br>\n",
    "A solution is an affectation of products on the ribbon. An affectation, to be valid, need to be:<br>\n",
    "* at __integer positions__<br>\n",
    "* have no intersection between its products placement. If you place a product P1 of size 3, at position x=2, you cant have any product affected at positions `x=3` nor `x=4`.<br>\n",
    "* each product placed on the ribbon needs to contain less (or equal) defects of each class from the ribbon than authorized by its thresholds. A product P1 of size 3 placed at `x=2`, contains all defects of the ribbon which `x` is in `[2, 5]`. If in this interval, we have 3 defects of class `a`, and that threshold of P1 authorized maximum 2 defects of class `a`, the affectation is invalid<br>\n",
    "<br>\n",
    "The value of the solution is the sum of the value of the individual products placed on it. Part of the ribbon with no product affected amount to 0<br>\n",
    "<br>\n",
    "<br>\n",
    "Benchmark:<br>\n",
    "* this notebook generates random instances.<br>\n",
    "* if you run this cells in this order after the seeding (and without calling other randoms/re-executing cells), you can find a solution of value 358."
   ]
  },
  {
   "cell_type": "markdown",
   "metadata": {},
   "source": [
    "# Setup<br>\n",
    "## we define some fixed parameters and generate some random instances"
   ]
  },
  {
   "cell_type": "code",
   "execution_count": 3,
   "metadata": {},
   "outputs": [],
   "source": [
    "#seed random for reproductibility of benchmark instance\n",
    "np.random.seed(5)"
   ]
  },
  {
   "cell_type": "code",
   "execution_count": 4,
   "metadata": {},
   "outputs": [],
   "source": [
    "#seed random for reproductibility of benchmark instance\n",
    "LENGTH = 50"
   ]
  },
  {
   "cell_type": "markdown",
   "metadata": {},
   "source": [
    "## defects"
   ]
  },
  {
   "cell_type": "code",
   "execution_count": 5,
   "metadata": {},
   "outputs": [
    {
     "data": {
      "text/html": [
       "<style  type=\"text/css\" >\n",
       "</style><table id=\"T_aab00_\" ><caption>extract of defects of the ribbon</caption><thead>    <tr>        <th class=\"blank level0\" ></th>        <th class=\"col_heading level0 col0\" >x</th>        <th class=\"col_heading level0 col1\" >class</th>    </tr></thead><tbody>\n",
       "                <tr>\n",
       "                        <th id=\"T_aab00_level0_row0\" class=\"row_heading level0 row0\" >0</th>\n",
       "                        <td id=\"T_aab00_row0_col0\" class=\"data row0 col0\" >11.10</td>\n",
       "                        <td id=\"T_aab00_row0_col1\" class=\"data row0 col1\" >a</td>\n",
       "            </tr>\n",
       "            <tr>\n",
       "                        <th id=\"T_aab00_level0_row1\" class=\"row_heading level0 row1\" >1</th>\n",
       "                        <td id=\"T_aab00_row1_col0\" class=\"data row1 col0\" >43.54</td>\n",
       "                        <td id=\"T_aab00_row1_col1\" class=\"data row1 col1\" >b</td>\n",
       "            </tr>\n",
       "            <tr>\n",
       "                        <th id=\"T_aab00_level0_row2\" class=\"row_heading level0 row2\" >2</th>\n",
       "                        <td id=\"T_aab00_row2_col0\" class=\"data row2 col0\" >10.34</td>\n",
       "                        <td id=\"T_aab00_row2_col1\" class=\"data row2 col1\" >c</td>\n",
       "            </tr>\n",
       "    </tbody></table>"
      ],
      "text/plain": [
       "<pandas.io.formats.style.Styler at 0x2a4c96bf850>"
      ]
     },
     "execution_count": 5,
     "metadata": {},
     "output_type": "execute_result"
    }
   ],
   "source": [
    "n_defects = 50\n",
    "\n",
    "# classe 1, classe 2 etc\n",
    "n_defect_classes = 4\n",
    "assert n_defect_classes <= 26, \"too much defects classes\"\n",
    "\n",
    "# generates defects position\n",
    "defects_x = np.random.uniform(0, LENGTH, (n_defects))\n",
    "\n",
    "# generates their classes\n",
    "defects_class = np.random.choice(\n",
    "    list('abcdefghijklmnopqrstuvwxyz'[:n_defect_classes]),\n",
    "    (n_defects)\n",
    ")\n",
    "\n",
    "# summarize\n",
    "defects = pd.DataFrame(\n",
    "    columns=['x', 'class'],\n",
    "    data = np.array([defects_x, defects_class]).T\n",
    ")\n",
    "defects['x'] = defects['x'].astype(float)\n",
    "defects.head(3).style.set_caption('extract of defects of the ribbon').format('{:,.2f}', subset='x')"
   ]
  },
  {
   "cell_type": "markdown",
   "metadata": {},
   "source": [
    "## products"
   ]
  },
  {
   "cell_type": "code",
   "execution_count": 6,
   "metadata": {},
   "outputs": [
    {
     "name": "stdout",
     "output_type": "stream",
     "text": [
      "The 4 products are\n",
      " * Product of size 6, value 3 and max_defects {'a': 4, 'b': 4, 'c': 3, 'd': 3}\n",
      " * Product of size 7, value 5 and max_defects {'a': 1, 'b': 3, 'c': 3, 'd': 1}\n",
      " * Product of size 5, value 3 and max_defects {'a': 4, 'b': 2, 'c': 4, 'd': 3}\n",
      " * Product of size 4, value 4 and max_defects {'a': 2, 'b': 1, 'c': 1, 'd': 3}\n"
     ]
    }
   ],
   "source": [
    "n_products = 4\n",
    "\n",
    "class Product:\n",
    "\n",
    "    def __init__(self):\n",
    "        self.length: int = np.random.randint(4,10)\n",
    "        self.value: int = np.random.randint(1,10)\n",
    "        self.max_defects: Dict[int, int] = {\n",
    "            key: np.random.randint(1,5) for key in defects_class\n",
    "        }\n",
    "\n",
    "    def __repr__(self):\n",
    "        return f'Product of size {self.length}, value {self.value} and max_defects {self.max_defects}'\n",
    "    \n",
    "    \n",
    "    def representation(self):\n",
    "        return f'Product {Products.index(self)}'\n",
    "\n",
    "\n",
    "# generate n_products random product (ie random size, value and threshold)\n",
    "Products = [Product() for _ in range(n_products)]\n",
    "print('\\n * '.join([f'The {n_products} products are'] + [str(p) for p in Products]))"
   ]
  },
  {
   "cell_type": "markdown",
   "metadata": {},
   "source": [
    "## Solution structure<br>\n",
    "<br>\n",
    "The Solution class needs to be instantiated with the current \"defects\" you are using.<br>\n",
    "```python<br>\n",
    "current_solution = Solution(defects)<br>\n",
    "```<br>\n",
    "<br>\n",
    "You can create the Solution iteratively, by placing product `p` at position `position`, with the method<br>\n",
    "```python<br>\n",
    "current_solution.add_product(p, position)<br>\n",
    "```<br>\n",
    "<br>\n",
    "You can compute your current solution score with<br>\n",
    "```python<br>\n",
    "current_solution.compute_value()<br>\n",
    "```<br>\n",
    "<br>\n",
    "You can check if you dont have any invalidities with<br>\n",
    "```python<br>\n",
    "current_solution.checker()<br>\n",
    "```"
   ]
  },
  {
   "cell_type": "code",
   "execution_count": 28,
   "metadata": {},
   "outputs": [],
   "source": [
    "class PlacedProduct:\n",
    "    \"\"\"\n",
    "    helper class representing a product placed on a position of the ribbon\n",
    "    \"\"\"\n",
    "    def __init__(self, product: Product, position: int):\n",
    "        self.product = product\n",
    "        self.position = position\n",
    "               \n",
    "    def __repr__(self):\n",
    "        return f'{self.product.representation()} in position {self.position}'\n",
    "\n",
    "class Solution:\n",
    "    def __init__(self, defects:pd.DataFrame):\n",
    "        self.placedProducts = []\n",
    "        self.defects = defects\n",
    "\n",
    "    def add_product(self, product: Product, position: int=0)->None:\n",
    "        self.placedProducts.append(PlacedProduct(product, position))\n",
    "        \n",
    "    def remove_product(self)->None:\n",
    "        if self.placedProducts:\n",
    "            self.placedProducts.pop(len(self.placedProducts)-1)    \n",
    "\n",
    "    def compute_value(self):\n",
    "        return sum((pp.product.value for pp in self.placedProducts))\n",
    "    \n",
    "    def __repr__(self):\n",
    "        return f'Solution {self.placedProducts} with computed value of {self.compute_value()}'\n",
    "\n",
    "    def checker(self, assertmessage = False)->bool:\n",
    "        bob = pd.DataFrame(\n",
    "            np.array([[pp.position for pp in self.placedProducts], [pp.product.length for pp in self.placedProducts]]).T,\n",
    "            columns=['pos', 'length']\n",
    "        )\n",
    "        bob = bob.sort_values('pos')\n",
    "\n",
    "        a0 = bob[np.floor(bob['pos']) < bob['pos']]\n",
    "        try:\n",
    "            assert len(a0) == 0, f'placedProducts at non integer positions {*a0.to_list(), }'\n",
    "        except AssertionError as e:\n",
    "            if assertmessage:\n",
    "                print(e)\n",
    "            return False\n",
    "        else:\n",
    "            a1 = bob.loc[bob.sum(axis=1)>LENGTH, 'pos']\n",
    "            try:\n",
    "                assert len(a1) == 0, f'placedProducts exceed LENGTH {*a1.to_list(), }'\n",
    "            except AssertionError as e:\n",
    "                if assertmessage:\n",
    "                    print(e)\n",
    "                return False\n",
    "            else:\n",
    "                a2 = bob.sort_values('pos')\n",
    "                a2 = bob.loc[bob['pos'] + bob['length'] > bob['pos'].shift(-1), 'pos']\n",
    "                try:\n",
    "                    assert len(a2)==0, f'overlapping placedProducts at positions {*a2.to_list(), }'\n",
    "                except AssertionError as e:\n",
    "                    if assertmessage:\n",
    "                        print(e)\n",
    "                    return False\n",
    "                else:\n",
    "                    # check max defects OK\n",
    "                    for pp in self.placedProducts:\n",
    "                        defects_in_plate = self.defects.loc[(self.defects['x'] >= pp.position) & (self.defects['x'] <= pp.position + pp.product.length), \"class\"].to_list()\n",
    "                        a3 = Counter(defects_in_plate)-Counter(pp.product.max_defects)\n",
    "                        try:\n",
    "                            assert not a3, f\"plate at position {pp.position} contains too much defects of classes {*a3.keys(), }\"\n",
    "                        except AssertionError as e:\n",
    "                            if assertmessage:\n",
    "                                print(e)\n",
    "                            return False\n",
    "                        else:\n",
    "                            return True        "
   ]
  },
  {
   "cell_type": "code",
   "execution_count": 29,
   "metadata": {},
   "outputs": [
    {
     "name": "stdout",
     "output_type": "stream",
     "text": [
      "value 3\n"
     ]
    },
    {
     "data": {
      "text/plain": [
       "False"
      ]
     },
     "execution_count": 29,
     "metadata": {},
     "output_type": "execute_result"
    }
   ],
   "source": [
    "## demo OK with initial seeding\n",
    "sol = Solution(defects)\n",
    "sol.add_product(\n",
    "    product=Products[0],\n",
    "    position=10\n",
    ")\n",
    "print('value', sol.compute_value())\n",
    "sol.checker()"
   ]
  },
  {
   "cell_type": "code",
   "execution_count": 30,
   "metadata": {},
   "outputs": [
    {
     "name": "stdout",
     "output_type": "stream",
     "text": [
      "value 8\n"
     ]
    },
    {
     "data": {
      "text/plain": [
       "False"
      ]
     },
     "execution_count": 30,
     "metadata": {},
     "output_type": "execute_result"
    }
   ],
   "source": [
    "## demo not OK cause overlap with previous plate\n",
    "sol = Solution(defects)\n",
    "sol.add_product(\n",
    "    product=Products[3],\n",
    "    position=0\n",
    ")\n",
    "\n",
    "sol.add_product(\n",
    "    product=Products[3],\n",
    "    position=2\n",
    ")\n",
    "print('value', sol.compute_value())\n",
    "sol.checker()"
   ]
  },
  {
   "cell_type": "code",
   "execution_count": 31,
   "metadata": {},
   "outputs": [
    {
     "name": "stdout",
     "output_type": "stream",
     "text": [
      "value 3\n"
     ]
    },
    {
     "data": {
      "text/plain": [
       "False"
      ]
     },
     "execution_count": 31,
     "metadata": {},
     "output_type": "execute_result"
    }
   ],
   "source": [
    "## demo not OK because too much defects\n",
    "sol = Solution(defects)\n",
    "sol.add_product(\n",
    "    product=Products[2],\n",
    "    position=5\n",
    ")\n",
    "print('value', sol.compute_value())\n",
    "sol.checker()"
   ]
  },
  {
   "cell_type": "markdown",
   "metadata": {},
   "source": [
    "## HELPERS<br>\n",
    "<br>\n",
    "Some functions that can be used build a solution"
   ]
  },
  {
   "cell_type": "code",
   "execution_count": 32,
   "metadata": {},
   "outputs": [],
   "source": [
    "from functools import lru_cache\n",
    "from operator import itemgetter\n",
    "from collections import Counter"
   ]
  },
  {
   "cell_type": "code",
   "execution_count": 33,
   "metadata": {},
   "outputs": [],
   "source": [
    "def defects_remaining(x: float) -> int:\n",
    "    \"\"\"\n",
    "    Count number of defects of each class on the ribbon [x, x+length]\n",
    "    return {defect class: number of defects}\n",
    "    \"\"\"\n",
    "    # filter index of defects within range\n",
    "    res = defects.loc[(defects[\"x\"] >= x), \"class\"].count()\n",
    "\n",
    "    return res"
   ]
  },
  {
   "cell_type": "code",
   "execution_count": 34,
   "metadata": {},
   "outputs": [
    {
     "data": {
      "text/plain": [
       "Counter({'a': 4, 'c': 1, 'd': 1})"
      ]
     },
     "execution_count": 34,
     "metadata": {},
     "output_type": "execute_result"
    }
   ],
   "source": [
    "# helpers\n",
    "def defects_counts(x: float, length: float) -> Counter:\n",
    "    \"\"\"\n",
    "    Count number of defects of each class on the ribbon [x, x+length]\n",
    "    return {defect class: number of defects}\n",
    "    \"\"\"\n",
    "    # filter index of defects within range\n",
    "    res = defects.loc[(defects[\"x\"] >= x) & (defects[\"x\"] <= x+length), \"class\"].to_list()\n",
    "\n",
    "    return Counter(res)\n",
    "    \n",
    "# if we start at x, a plate of length 7 will have quality: number         \n",
    "defects_counts(20, 7)"
   ]
  },
  {
   "cell_type": "code",
   "execution_count": 35,
   "metadata": {},
   "outputs": [
    {
     "name": "stdout",
     "output_type": "stream",
     "text": [
      "True\n",
      "False\n"
     ]
    }
   ],
   "source": [
    "def contains(container: Counter, content: Counter) -> bool:\n",
    "    \"\"\"\n",
    "    check if all values of container are bigger than those of content.\n",
    "    Can compare <defects_counts> to products thresholds\n",
    "    \"\"\"\n",
    "    return not content - container\n",
    "\n",
    "print(contains(Counter([1,1]), Counter([1])))\n",
    "print(contains(Counter([1,1]), Counter([1,2])))"
   ]
  },
  {
   "cell_type": "code",
   "execution_count": 36,
   "metadata": {},
   "outputs": [
    {
     "data": {
      "text/plain": [
       "True"
      ]
     },
     "execution_count": 36,
     "metadata": {},
     "output_type": "execute_result"
    }
   ],
   "source": [
    "def possible(x: float, p: Product) -> bool:\n",
    "    \"\"\"\n",
    "    return True product p is compatible with position x\n",
    "    \"\"\"\n",
    "    defects_present = defects_counts(x, p.length)\n",
    "    return contains(Counter(p.max_defects), defects_present)\n",
    "\n",
    "\n",
    "possible(1, Products[0])"
   ]
  },
  {
   "cell_type": "code",
   "execution_count": 37,
   "metadata": {},
   "outputs": [
    {
     "data": {
      "text/plain": [
       "True"
      ]
     },
     "execution_count": 37,
     "metadata": {},
     "output_type": "execute_result"
    }
   ],
   "source": [
    "def possible(x: float, p: Product) -> bool:\n",
    "    \"\"\"\n",
    "    return True product p is compatible with position x\n",
    "    \"\"\"\n",
    "    defects_present = defects_counts(x, p.length)\n",
    "    return contains(Counter(p.max_defects), defects_present)\n",
    "\n",
    "\n",
    "possible(1, Products[0])"
   ]
  },
  {
   "cell_type": "code",
   "execution_count": 38,
   "metadata": {},
   "outputs": [
    {
     "name": "stdout",
     "output_type": "stream",
     "text": [
      "-----\n"
     ]
    }
   ],
   "source": [
    "print(\"-----\")\n",
    "\n",
    "solutions = []\n",
    "with_optimization = True\n",
    "\n",
    "@lru_cache()\n",
    "def backtrack(solution, pos):\n",
    "    #if solution.checker():\n",
    "    if defects_remaining(pos) == 0 and solution.checker():\n",
    "        if with_optimization:\n",
    "            if solutions:\n",
    "                previous_solution = solutions[0][1]\n",
    "                if solution.compute_value() < previous_solution:\n",
    "                    solutions.pop()\n",
    "                    solutions.append([str(solution), int(solution.compute_value())])\n",
    "            else:\n",
    "                solutions.append([str(solution), int(solution.compute_value())])\n",
    "        else:\n",
    "            solutions.append([str(solution), int(solution.compute_value())])\n",
    "        return\n",
    "    for product in Products:\n",
    "        if possible(pos, product):\n",
    "            solution.add_product(product, pos)\n",
    "            if solution.checker():\n",
    "                backtrack(solution, pos + product.length)\n",
    "            solution.remove_product()"
   ]
  },
  {
   "cell_type": "code",
   "execution_count": 40,
   "metadata": {},
   "outputs": [
    {
     "name": "stdout",
     "output_type": "stream",
     "text": [
      "[['Solution [Product 0 in position 0, Product 0 in position 6, Product 0 in position 12, Product 3 in position 18, Product 2 in position 22, Product 0 in position 27, Product 0 in position 33, Product 2 in position 39, Product 0 in position 44] with computed value of 28', 28]]\n"
     ]
    }
   ],
   "source": [
    "sol = Solution(defects)\n",
    "backtrack(sol, 0)\n",
    "print(solutions)\n"
   ]
  },
  {
   "cell_type": "markdown",
   "metadata": {},
   "source": [
    "example of solution creation from a list res = [(position first element, product first element), (position second element, product second element), ...]<br>\n",
    "es = [(Products[3],2)]<br>\n",
    "ol = Solution(defects)<br>\n",
    "or item in res:<br>\n",
    "   sol.add_product(item[0], item[1])<br>\n",
    "rint(sol.compute_value())<br>\n",
    "ol.checker()"
   ]
  }
 ],
 "metadata": {
  "kernelspec": {
   "display_name": "Python 3",
   "language": "python",
   "name": "python3"
  },
  "language_info": {
   "codemirror_mode": {
    "name": "ipython",
    "version": 3
   },
   "file_extension": ".py",
   "mimetype": "text/x-python",
   "name": "python",
   "nbconvert_exporter": "python",
   "pygments_lexer": "ipython3",
   "version": "3.8.10"
  }
 },
 "nbformat": 4,
 "nbformat_minor": 2
}
