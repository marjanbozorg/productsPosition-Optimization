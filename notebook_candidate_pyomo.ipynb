{
 "cells": [
  {
   "cell_type": "code",
   "execution_count": null,
   "metadata": {},
   "outputs": [],
   "source": [
    "#!/usr/bin/env python\n",
    "# coding: utf-8"
   ]
  },
  {
   "cell_type": "markdown",
   "metadata": {},
   "source": [
    "In[ ]:"
   ]
  },
  {
   "cell_type": "markdown",
   "metadata": {},
   "source": [
    "minimal requirements<br>\n",
    "python >= 3.6<br>\n",
    "pandas >= 1"
   ]
  },
  {
   "cell_type": "code",
   "execution_count": 1,
   "metadata": {},
   "outputs": [],
   "source": [
    "import numpy as np\n",
    "import pandas as pd\n",
    "from typing import Dict\n",
    "from functools import lru_cache\n",
    "from operator import itemgetter\n",
    "from collections import Counter\n",
    "import pyomo.environ as pe\n",
    "import pyomo.opt as po\n",
    "import math\n",
    "from pyomo.environ import value"
   ]
  },
  {
   "cell_type": "markdown",
   "metadata": {},
   "source": [
    "You have<br>\n",
    "* a ribbon of length 'LENGTH' meters (the problem is 1D).<br>\n",
    "* defects that lies on the ribbon. Each defect has<br>\n",
    "    * a position `x`<br>\n",
    "    * and a class [`a`, `b`, `c`, ...]<br>\n",
    "* set of available products. Each product can be produced an infinite number of times, and has:<br>\n",
    "    * a size (along the same dimension as the ribbon)<br>\n",
    "    * a value (see next paragraph)<br>\n",
    "    * and a threshold for the maximum number of defects of each size it can contains<br>\n",
    "<br>\n",
    "A solution is an affectation of products on the ribbon. An affectation, to be valid, need to be:<br>\n",
    "* at __integer positions__<br>\n",
    "* have no intersection between its products placement. If you place a product P1 of size 3, at position x=2, you cant have any product affected at positions `x=3` nor `x=4`.<br>\n",
    "* each product placed on the ribbon needs to contain less (or equal) defects of each class from the ribbon than authorized by its thresholds. A product P1 of size 3 placed at `x=2`, contains all defects of the ribbon which `x` is in `[2, 5]`. If in this interval, we have 3 defects of class `a`, and that threshold of P1 authorized maximum 2 defects of class `a`, the affectation is invalid<br>\n",
    "<br>\n",
    "The value of the solution is the sum of the value of the individual products placed on it. Part of the ribbon with no product affected amount to 0<br>\n",
    "<br>\n",
    "<br>\n",
    "Benchmark:<br>\n",
    "* this notebook generates random instances.<br>\n",
    "* if you run this cells in this order after the seeding (and without calling other randoms/re-executing cells), you can find a solution of value 358."
   ]
  },
  {
   "cell_type": "markdown",
   "metadata": {},
   "source": [
    "# Setup<br>\n",
    "## we define some fixed parameters and generate some random instances"
   ]
  },
  {
   "cell_type": "markdown",
   "metadata": {},
   "source": [
    "seed random for reproductibility of benchmark instance"
   ]
  },
  {
   "cell_type": "code",
   "execution_count": 2,
   "metadata": {},
   "outputs": [],
   "source": [
    "np.random.seed(5)"
   ]
  },
  {
   "cell_type": "markdown",
   "metadata": {},
   "source": [
    "length of the glass ribbon to cut"
   ]
  },
  {
   "cell_type": "code",
   "execution_count": 3,
   "metadata": {},
   "outputs": [],
   "source": [
    "LENGTH = 100"
   ]
  },
  {
   "cell_type": "markdown",
   "metadata": {},
   "source": [
    "## defects"
   ]
  },
  {
   "cell_type": "code",
   "execution_count": 4,
   "metadata": {},
   "outputs": [],
   "source": [
    "n_defects = 20"
   ]
  },
  {
   "cell_type": "markdown",
   "metadata": {},
   "source": [
    "classe 1, classe 2 etc"
   ]
  },
  {
   "cell_type": "code",
   "execution_count": 5,
   "metadata": {},
   "outputs": [],
   "source": [
    "n_defect_classes = 4\n",
    "assert n_defect_classes <= 26, \"too much defects classes\""
   ]
  },
  {
   "cell_type": "markdown",
   "metadata": {},
   "source": [
    "generates defects position"
   ]
  },
  {
   "cell_type": "code",
   "execution_count": 6,
   "metadata": {},
   "outputs": [],
   "source": [
    "defects_x = np.random.uniform(0, LENGTH, (n_defects))"
   ]
  },
  {
   "cell_type": "markdown",
   "metadata": {},
   "source": [
    "generates their classes"
   ]
  },
  {
   "cell_type": "code",
   "execution_count": 7,
   "metadata": {},
   "outputs": [],
   "source": [
    "defects_class = np.random.choice(\n",
    "    list('abcdefghijklmnopqrstuvwxyz'[:n_defect_classes]),\n",
    "    (n_defects)\n",
    ")"
   ]
  },
  {
   "cell_type": "markdown",
   "metadata": {},
   "source": [
    "summarize"
   ]
  },
  {
   "cell_type": "code",
   "execution_count": 8,
   "metadata": {},
   "outputs": [],
   "source": [
    "defects = pd.DataFrame(\n",
    "    columns=['x', 'class'],\n",
    "    data = np.array([defects_x, defects_class]).T\n",
    ")\n",
    "defects['x'] = defects['x'].astype(float)\n",
    "defects = defects.sort_values(by=['x'])\n",
    "defects = defects.reset_index(drop = True)\n",
    "defects.index += 1"
   ]
  },
  {
   "cell_type": "code",
   "execution_count": 9,
   "metadata": {},
   "outputs": [
    {
     "data": {
      "text/html": [
       "<style  type=\"text/css\" >\n",
       "</style><table id=\"T_5d4c1_\" ><caption>extract of defects of the ribbon</caption><thead>    <tr>        <th class=\"blank level0\" ></th>        <th class=\"col_heading level0 col0\" >x</th>        <th class=\"col_heading level0 col1\" >class</th>    </tr></thead><tbody>\n",
       "                <tr>\n",
       "                        <th id=\"T_5d4c1_level0_row0\" class=\"row_heading level0 row0\" >1</th>\n",
       "                        <td id=\"T_5d4c1_row0_col0\" class=\"data row0 col0\" >8.07</td>\n",
       "                        <td id=\"T_5d4c1_row0_col1\" class=\"data row0 col1\" >a</td>\n",
       "            </tr>\n",
       "            <tr>\n",
       "                        <th id=\"T_5d4c1_level0_row1\" class=\"row_heading level0 row1\" >2</th>\n",
       "                        <td id=\"T_5d4c1_row1_col0\" class=\"data row1 col0\" >15.83</td>\n",
       "                        <td id=\"T_5d4c1_row1_col1\" class=\"data row1 col1\" >b</td>\n",
       "            </tr>\n",
       "            <tr>\n",
       "                        <th id=\"T_5d4c1_level0_row2\" class=\"row_heading level0 row2\" >3</th>\n",
       "                        <td id=\"T_5d4c1_row2_col0\" class=\"data row2 col0\" >18.77</td>\n",
       "                        <td id=\"T_5d4c1_row2_col1\" class=\"data row2 col1\" >a</td>\n",
       "            </tr>\n",
       "    </tbody></table>"
      ],
      "text/plain": [
       "<pandas.io.formats.style.Styler at 0x1093173e730>"
      ]
     },
     "execution_count": 9,
     "metadata": {},
     "output_type": "execute_result"
    }
   ],
   "source": [
    "defects.head(3).style.set_caption('extract of defects of the ribbon').format('{:,.2f}', subset='x')"
   ]
  },
  {
   "cell_type": "markdown",
   "metadata": {},
   "source": [
    "## products"
   ]
  },
  {
   "cell_type": "code",
   "execution_count": 10,
   "metadata": {},
   "outputs": [],
   "source": [
    "n_products = 4"
   ]
  },
  {
   "cell_type": "code",
   "execution_count": 11,
   "metadata": {},
   "outputs": [],
   "source": [
    "class Product:\n",
    "    def __init__(self):\n",
    "        self.length: int = np.random.randint(4,10)\n",
    "        self.value: int = np.random.randint(1,10)\n",
    "        self.max_defects: Dict[int, int] = {\n",
    "            key: np.random.randint(1,5) for key in defects_class\n",
    "        }\n",
    "    def __repr__(self):\n",
    "        return f'Product of size {self.length}, value {self.value} and max_defects {self.max_defects}'"
   ]
  },
  {
   "cell_type": "markdown",
   "metadata": {},
   "source": [
    "generate n_products random product (ie random size, value and threshold)"
   ]
  },
  {
   "cell_type": "code",
   "execution_count": 12,
   "metadata": {},
   "outputs": [
    {
     "name": "stdout",
     "output_type": "stream",
     "text": [
      "The 4 products are\n",
      " * Product of size 5, value 4 and max_defects {'c': 4, 'b': 1, 'd': 4, 'a': 3}\n",
      " * Product of size 9, value 2 and max_defects {'c': 4, 'b': 3, 'd': 1, 'a': 3}\n",
      " * Product of size 4, value 1 and max_defects {'c': 3, 'b': 1, 'd': 1, 'a': 2}\n",
      " * Product of size 7, value 6 and max_defects {'c': 1, 'b': 3, 'd': 1, 'a': 4}\n"
     ]
    }
   ],
   "source": [
    "Products = [Product() for _ in range(n_products)]\n",
    "print('\\n * '.join([f'The {n_products} products are'] + [str(p) for p in Products]))"
   ]
  },
  {
   "cell_type": "code",
   "execution_count": 13,
   "metadata": {},
   "outputs": [],
   "source": [
    "M = pe.ConcreteModel()\n",
    "# glpk\n",
    "solver = po.SolverFactory('glpk')"
   ]
  },
  {
   "cell_type": "markdown",
   "metadata": {},
   "source": [
    "sets"
   ]
  },
  {
   "cell_type": "code",
   "execution_count": 15,
   "metadata": {},
   "outputs": [],
   "source": [
    "param_value = {}\n",
    "param_length = {}\n",
    "param_max_defects = {}\n",
    "defects_param = {}\n",
    "for index, product in enumerate(Products):\n",
    "    param_value[index+1] = int(math.floor(product.value))\n",
    "    param_length[index+1] = product.length\n",
    "    for key,value in product.max_defects.items():\n",
    "        param_max_defects[(index+1, key)] = value"
   ]
  },
  {
   "cell_type": "code",
   "execution_count": 16,
   "metadata": {},
   "outputs": [],
   "source": [
    "alphabet = sorted({ _ for _ in list('abcdefghijklmnopqrstuvwxyz'[:n_defect_classes])})"
   ]
  },
  {
   "cell_type": "code",
   "execution_count": 17,
   "metadata": {},
   "outputs": [],
   "source": [
    "for index, row in defects.iterrows():\n",
    "    defects_param[index, row['class']] = 1"
   ]
  },
  {
   "cell_type": "code",
   "execution_count": 18,
   "metadata": {},
   "outputs": [],
   "source": [
    "M.length = LENGTH\n",
    "M.defects = n_defects\n",
    "M.alphabet = pe.Set(initialize=alphabet)\n",
    "M.product = pe.RangeSet(1, n_products)\n",
    "M.defect = pe.RangeSet(1, n_defects)\n",
    "M.product_value = pe.Param(M.product, initialize = param_value, default=0)\n",
    "M.product_length = pe.Param(M.product, initialize = param_length, default=0)\n",
    "M.product_max_defects = pe.Param(M.product, M.alphabet, initialize = param_max_defects, default=0)\n",
    "M.defect_info = pe.Param(M.defect, M.alphabet, initialize = defects_param, default=0)"
   ]
  },
  {
   "cell_type": "code",
   "execution_count": 19,
   "metadata": {},
   "outputs": [],
   "source": [
    "M.x = pe.Var(M.defect, M.product, domain=pe.Binary)"
   ]
  },
  {
   "cell_type": "code",
   "execution_count": 20,
   "metadata": {},
   "outputs": [],
   "source": [
    "obj_expr = sum(M.product_value[p] * M.x[d,p] for p in M.product for d in M.defect)\n",
    "M.obj = pe.Objective(sense=pe.minimize, expr=obj_expr)"
   ]
  },
  {
   "cell_type": "code",
   "execution_count": 21,
   "metadata": {},
   "outputs": [],
   "source": [
    "M.notoverlapping = pe.ConstraintList()\n",
    "for d in M.defect:\n",
    "    lhs= sum(M.x[d,p] for p in M.product)\n",
    "    rhs=1\n",
    "    M.notoverlapping.add(lhs == rhs)"
   ]
  },
  {
   "cell_type": "code",
   "execution_count": 22,
   "metadata": {},
   "outputs": [],
   "source": [
    "M.exceedlength = pe.Constraint(\n",
    "expr =  sum(M.product_length[p]* M.x[d,p] for p in M.product for d in M.defect) <= M.length)"
   ]
  },
  {
   "cell_type": "code",
   "execution_count": 23,
   "metadata": {},
   "outputs": [],
   "source": [
    "M.coveringalldefects = pe.Constraint(\n",
    "expr =  sum(M.x[d,p] for d in M.defect for p in M.product) == M.defects)"
   ]
  },
  {
   "cell_type": "code",
   "execution_count": 24,
   "metadata": {},
   "outputs": [],
   "source": [
    "M.respectthreshold = pe.ConstraintList()\n",
    "for p in M.product:\n",
    "    for c in list(alphabet):\n",
    "        lhs= sum(M.x[d,p] * M.defect_info[d, c] for d in M.defect)\n",
    "        rhs=M.product_max_defects[p,c]\n",
    "        M.respectthreshold.add(lhs <= rhs)"
   ]
  },
  {
   "cell_type": "code",
   "execution_count": 25,
   "metadata": {},
   "outputs": [
    {
     "name": "stdout",
     "output_type": "stream",
     "text": [
      "GLPSOL: GLPK LP/MIP Solver, v4.65\n",
      "Parameter(s) specified in the command line:\n",
      " --write C:\\Users\\bozorg\\AppData\\Local\\Temp\\tmpvci2vta9.glpk.raw --wglp C:\\Users\\bozorg\\AppData\\Local\\Temp\\tmpg0fy0bim.glpk.glp\n",
      " --cpxlp C:\\Users\\bozorg\\AppData\\Local\\Temp\\tmp712ph05t.pyomo.lp\n",
      "Reading problem data from 'C:\\Users\\bozorg\\AppData\\Local\\Temp\\tmp712ph05t.pyomo.lp'...\n",
      "C:\\Users\\bozorg\\AppData\\Local\\Temp\\tmp712ph05t.pyomo.lp:607: warning: lower bound of variable 'x1' redefined\n",
      "C:\\Users\\bozorg\\AppData\\Local\\Temp\\tmp712ph05t.pyomo.lp:607: warning: upper bound of variable 'x1' redefined\n",
      "39 rows, 81 columns, 321 non-zeros\n",
      "80 integer variables, all of which are binary\n",
      "687 lines were read\n",
      "Writing problem data to 'C:\\Users\\bozorg\\AppData\\Local\\Temp\\tmpg0fy0bim.glpk.glp'...\n",
      "564 lines were written\n",
      "GLPK Integer Optimizer, v4.65\n",
      "39 rows, 81 columns, 321 non-zeros\n",
      "80 integer variables, all of which are binary\n",
      "Preprocessing...\n",
      "35 rows, 80 columns, 310 non-zeros\n",
      "80 integer variables, all of which are binary\n",
      "Scaling...\n",
      " A: min|aij| =  1.000e+00  max|aij| =  9.000e+00  ratio =  9.000e+00\n",
      "Problem data seem to be well scaled\n",
      "Constructing initial basis...\n",
      "Size of triangular part is 34\n",
      "Solving LP relaxation...\n",
      "GLPK Simplex Optimizer, v4.65\n",
      "35 rows, 80 columns, 310 non-zeros\n",
      "      0: obj =   1.180000000e+02 inf =   4.800e+01 (4)\n",
      "     27: obj =   6.600000000e+01 inf =   0.000e+00 (0)\n",
      "*    44: obj =   5.700000000e+01 inf =   0.000e+00 (0)\n",
      "OPTIMAL LP SOLUTION FOUND\n",
      "Integer optimization begins...\n",
      "Long-step dual simplex will be used\n",
      "+    44: mip =     not found yet >=              -inf        (1; 0)\n",
      "Solution found by heuristic: 59\n",
      "+   660: mip =   5.900000000e+01 >=     tree is empty   0.0% (0; 115)\n",
      "INTEGER OPTIMAL SOLUTION FOUND\n",
      "Time used:   0.0 secs\n",
      "Memory used: 0.2 Mb (171130 bytes)\n",
      "Writing MIP solution to 'C:\\Users\\bozorg\\AppData\\Local\\Temp\\tmpvci2vta9.glpk.raw'...\n",
      "129 lines were written\n"
     ]
    }
   ],
   "source": [
    "results = solver.solve(M, tee = True)"
   ]
  },
  {
   "cell_type": "code",
   "execution_count": 26,
   "metadata": {},
   "outputs": [
    {
     "name": "stdout",
     "output_type": "stream",
     "text": [
      "this is feasible and optimal\n",
      "\n",
      "- Status: ok\n",
      "  Termination condition: optimal\n",
      "  Statistics: \n",
      "    Branch and bound: \n",
      "      Number of bounded subproblems: 115\n",
      "      Number of created subproblems: 115\n",
      "  Error rc: 0\n",
      "  Time: 0.05242156982421875\n",
      "\n",
      "Model unknown\n",
      "\n",
      "  Variables:\n",
      "    x : Size=80, Index=x_index\n",
      "        Key     : Lower : Value : Upper : Fixed : Stale : Domain\n",
      "         (1, 1) :     0 :   0.0 :     1 : False : False : Binary\n",
      "         (1, 2) :     0 :   0.0 :     1 : False : False : Binary\n",
      "         (1, 3) :     0 :   1.0 :     1 : False : False : Binary\n",
      "         (1, 4) :     0 :   0.0 :     1 : False : False : Binary\n",
      "         (2, 1) :     0 :   0.0 :     1 : False : False : Binary\n",
      "         (2, 2) :     0 :   1.0 :     1 : False : False : Binary\n",
      "         (2, 3) :     0 :   0.0 :     1 : False : False : Binary\n",
      "         (2, 4) :     0 :   0.0 :     1 : False : False : Binary\n",
      "         (3, 1) :     0 :   0.0 :     1 : False : False : Binary\n",
      "         (3, 2) :     0 :   0.0 :     1 : False : False : Binary\n",
      "         (3, 3) :     0 :   0.0 :     1 : False : False : Binary\n",
      "         (3, 4) :     0 :   1.0 :     1 : False : False : Binary\n",
      "         (4, 1) :     0 :   0.0 :     1 : False : False : Binary\n",
      "         (4, 2) :     0 :   0.0 :     1 : False : False : Binary\n",
      "         (4, 3) :     0 :   1.0 :     1 : False : False : Binary\n",
      "         (4, 4) :     0 :   0.0 :     1 : False : False : Binary\n",
      "         (5, 1) :     0 :   0.0 :     1 : False : False : Binary\n",
      "         (5, 2) :     0 :   0.0 :     1 : False : False : Binary\n",
      "         (5, 3) :     0 :   1.0 :     1 : False : False : Binary\n",
      "         (5, 4) :     0 :   0.0 :     1 : False : False : Binary\n",
      "         (6, 1) :     0 :   0.0 :     1 : False : False : Binary\n",
      "         (6, 2) :     0 :   0.0 :     1 : False : False : Binary\n",
      "         (6, 3) :     0 :   1.0 :     1 : False : False : Binary\n",
      "         (6, 4) :     0 :   0.0 :     1 : False : False : Binary\n",
      "         (7, 1) :     0 :   0.0 :     1 : False : False : Binary\n",
      "         (7, 2) :     0 :   0.0 :     1 : False : False : Binary\n",
      "         (7, 3) :     0 :   1.0 :     1 : False : False : Binary\n",
      "         (7, 4) :     0 :   0.0 :     1 : False : False : Binary\n",
      "         (8, 1) :     0 :   0.0 :     1 : False : False : Binary\n",
      "         (8, 2) :     0 :   0.0 :     1 : False : False : Binary\n",
      "         (8, 3) :     0 :   1.0 :     1 : False : False : Binary\n",
      "         (8, 4) :     0 :   0.0 :     1 : False : False : Binary\n",
      "         (9, 1) :     0 :   1.0 :     1 : False : False : Binary\n",
      "         (9, 2) :     0 :   0.0 :     1 : False : False : Binary\n",
      "         (9, 3) :     0 :   0.0 :     1 : False : False : Binary\n",
      "         (9, 4) :     0 :   0.0 :     1 : False : False : Binary\n",
      "        (10, 1) :     0 :   1.0 :     1 : False : False : Binary\n",
      "        (10, 2) :     0 :   0.0 :     1 : False : False : Binary\n",
      "        (10, 3) :     0 :   0.0 :     1 : False : False : Binary\n",
      "        (10, 4) :     0 :   0.0 :     1 : False : False : Binary\n",
      "        (11, 1) :     0 :   1.0 :     1 : False : False : Binary\n",
      "        (11, 2) :     0 :   0.0 :     1 : False : False : Binary\n",
      "        (11, 3) :     0 :   0.0 :     1 : False : False : Binary\n",
      "        (11, 4) :     0 :   0.0 :     1 : False : False : Binary\n",
      "        (12, 1) :     0 :   1.0 :     1 : False : False : Binary\n",
      "        (12, 2) :     0 :   0.0 :     1 : False : False : Binary\n",
      "        (12, 3) :     0 :   0.0 :     1 : False : False : Binary\n",
      "        (12, 4) :     0 :   0.0 :     1 : False : False : Binary\n",
      "        (13, 1) :     0 :   1.0 :     1 : False : False : Binary\n",
      "        (13, 2) :     0 :   0.0 :     1 : False : False : Binary\n",
      "        (13, 3) :     0 :   0.0 :     1 : False : False : Binary\n",
      "        (13, 4) :     0 :   0.0 :     1 : False : False : Binary\n",
      "        (14, 1) :     0 :   1.0 :     1 : False : False : Binary\n",
      "        (14, 2) :     0 :   0.0 :     1 : False : False : Binary\n",
      "        (14, 3) :     0 :   0.0 :     1 : False : False : Binary\n",
      "        (14, 4) :     0 :   0.0 :     1 : False : False : Binary\n",
      "        (15, 1) :     0 :   1.0 :     1 : False : False : Binary\n",
      "        (15, 2) :     0 :   0.0 :     1 : False : False : Binary\n",
      "        (15, 3) :     0 :   0.0 :     1 : False : False : Binary\n",
      "        (15, 4) :     0 :   0.0 :     1 : False : False : Binary\n",
      "        (16, 1) :     0 :   1.0 :     1 : False : False : Binary\n",
      "        (16, 2) :     0 :   0.0 :     1 : False : False : Binary\n",
      "        (16, 3) :     0 :   0.0 :     1 : False : False : Binary\n",
      "        (16, 4) :     0 :   0.0 :     1 : False : False : Binary\n",
      "        (17, 1) :     0 :   0.0 :     1 : False : False : Binary\n",
      "        (17, 2) :     0 :   0.0 :     1 : False : False : Binary\n",
      "        (17, 3) :     0 :   1.0 :     1 : False : False : Binary\n",
      "        (17, 4) :     0 :   0.0 :     1 : False : False : Binary\n",
      "        (18, 1) :     0 :   1.0 :     1 : False : False : Binary\n",
      "        (18, 2) :     0 :   0.0 :     1 : False : False : Binary\n",
      "        (18, 3) :     0 :   0.0 :     1 : False : False : Binary\n",
      "        (18, 4) :     0 :   0.0 :     1 : False : False : Binary\n",
      "        (19, 1) :     0 :   1.0 :     1 : False : False : Binary\n",
      "        (19, 2) :     0 :   0.0 :     1 : False : False : Binary\n",
      "        (19, 3) :     0 :   0.0 :     1 : False : False : Binary\n",
      "        (19, 4) :     0 :   0.0 :     1 : False : False : Binary\n",
      "        (20, 1) :     0 :   1.0 :     1 : False : False : Binary\n",
      "        (20, 2) :     0 :   0.0 :     1 : False : False : Binary\n",
      "        (20, 3) :     0 :   0.0 :     1 : False : False : Binary\n",
      "        (20, 4) :     0 :   0.0 :     1 : False : False : Binary\n",
      "\n",
      "  Objectives:\n",
      "    obj : Size=1, Index=None, Active=True\n",
      "        Key  : Active : Value\n",
      "        None :   True :  59.0\n",
      "\n",
      "  Constraints:\n",
      "    notoverlapping : Size=20\n",
      "        Key : Lower : Body : Upper\n",
      "          1 :   1.0 :  1.0 :   1.0\n",
      "          2 :   1.0 :  1.0 :   1.0\n",
      "          3 :   1.0 :  1.0 :   1.0\n",
      "          4 :   1.0 :  1.0 :   1.0\n",
      "          5 :   1.0 :  1.0 :   1.0\n",
      "          6 :   1.0 :  1.0 :   1.0\n",
      "          7 :   1.0 :  1.0 :   1.0\n",
      "          8 :   1.0 :  1.0 :   1.0\n",
      "          9 :   1.0 :  1.0 :   1.0\n",
      "         10 :   1.0 :  1.0 :   1.0\n",
      "         11 :   1.0 :  1.0 :   1.0\n",
      "         12 :   1.0 :  1.0 :   1.0\n",
      "         13 :   1.0 :  1.0 :   1.0\n",
      "         14 :   1.0 :  1.0 :   1.0\n",
      "         15 :   1.0 :  1.0 :   1.0\n",
      "         16 :   1.0 :  1.0 :   1.0\n",
      "         17 :   1.0 :  1.0 :   1.0\n",
      "         18 :   1.0 :  1.0 :   1.0\n",
      "         19 :   1.0 :  1.0 :   1.0\n",
      "         20 :   1.0 :  1.0 :   1.0\n",
      "    exceedlength : Size=1\n",
      "        Key  : Lower : Body : Upper\n",
      "        None :  None : 99.0 : 100.0\n",
      "    coveringalldefects : Size=1\n",
      "        Key  : Lower : Body : Upper\n",
      "        None :  20.0 : 20.0 :  20.0\n",
      "    respectthreshold : Size=16\n",
      "        Key : Lower : Body : Upper\n",
      "          1 :  None :  3.0 :   3.0\n",
      "          2 :  None :  1.0 :   1.0\n",
      "          3 :  None :  4.0 :   4.0\n",
      "          4 :  None :  3.0 :   4.0\n",
      "          5 :  None :  0.0 :   3.0\n",
      "          6 :  None :  1.0 :   3.0\n",
      "          7 :  None :  0.0 :   4.0\n",
      "          8 :  None :  0.0 :   1.0\n",
      "          9 :  None :  2.0 :   2.0\n",
      "         10 :  None :  1.0 :   1.0\n",
      "         11 :  None :  3.0 :   3.0\n",
      "         12 :  None :  1.0 :   1.0\n",
      "         13 :  None :  1.0 :   4.0\n",
      "         14 :  None :  0.0 :   3.0\n",
      "         15 :  None :  0.0 :   1.0\n",
      "         16 :  None :  0.0 :   1.0\n"
     ]
    }
   ],
   "source": [
    "if (results.solver.status == po.SolverStatus.ok) and (results.solver.termination_condition == po.TerminationCondition.optimal):\n",
    "     print (\"this is feasible and optimal\")\n",
    "     print(str(results.solver))\n",
    "     M.display()\n",
    "elif results.solver.termination_condition == po.TerminationCondition.infeasible:\n",
    "     print (\"do something about it? or exit?\")\n",
    "else:\n",
    "     # something else is wrong\n",
    "     print (str(results.solver))"
   ]
  },
  {
   "cell_type": "code",
   "execution_count": 29,
   "metadata": {},
   "outputs": [
    {
     "name": "stdout",
     "output_type": "stream",
     "text": [
      "---------------------------\n"
     ]
    }
   ],
   "source": [
    "print('---------------------------')\n",
    "#M.pprint()<br>\n",
    "#M.obj.display()<br>\n",
    "#M.defect_info.display()<br>\n",
    "#print('maxDef')<br>\n",
    "#M.product_max_defects.display()<br>\n",
    "#print('vlaue')<br>\n",
    "#M.product_value.display()<br>\n",
    "#print('lenght')<br>\n",
    "#M.product_length.display()<br>\n",
    "#print('var')<br>\n",
    "#M.x.display()<br>\n",
    "#print(defects)<br>\n",
    "#defect_info.display()"
   ]
  },
  {
   "cell_type": "markdown",
   "metadata": {},
   "source": [
    "## Solution structure<br>\n",
    "<br>\n",
    "The Solution class needs to be instantiated with the current \"defects\" you are using.<br>\n",
    "```python<br>\n",
    "current_solution = Solution(defects)<br>\n",
    "```<br>\n",
    "<br>\n",
    "You can create the Solution iteratively, by placing product `p` at position `position`, with the method<br>\n",
    "```python<br>\n",
    "current_solution.add_product(p, position)<br>\n",
    "```<br>\n",
    "<br>\n",
    "You can compute your current solution score with<br>\n",
    "```python<br>\n",
    "current_solution.compute_value()<br>\n",
    "```<br>\n",
    "<br>\n",
    "You can check if you dont have any invalidities with<br>\n",
    "```python<br>\n",
    "current_solution.checker()<br>\n",
    "```"
   ]
  },
  {
   "cell_type": "code",
   "execution_count": 33,
   "metadata": {},
   "outputs": [],
   "source": [
    "class PlacedProduct:\n",
    "    \"\"\"\n",
    "    helper class representing a product placed on a position of the ribbon\n",
    "    \"\"\"\n",
    "    def __init__(self, product: Product, position: int):\n",
    "        self.product = product\n",
    "        self.position = position"
   ]
  },
  {
   "cell_type": "code",
   "execution_count": 37,
   "metadata": {},
   "outputs": [],
   "source": [
    "class Solution:\n",
    "    def __init__(self, defects:pd.DataFrame):\n",
    "        self.placedProducts = []\n",
    "        self.defects = defects\n",
    "    def add_product(self, product: Product, position: int=0)->None:\n",
    "        self.placedProducts.append(PlacedProduct(product, position))\n",
    "    def compute_value(self):\n",
    "        return sum((pp.product.value for pp in self.placedProducts))\n",
    "    def checker(self):\n",
    "        bob = pd.DataFrame(\n",
    "            np.array([[pp.position for pp in self.placedProducts], [pp.product.length for pp in self.placedProducts]]).T,\n",
    "            columns=['pos', 'length']\n",
    "        )\n",
    "        bob = bob.sort_values('pos')\n",
    "        a0 = bob[np.floor(bob['pos']) < bob['pos']]\n",
    "        assert len(a0) == 0, f'placedProducts at non integer positions {*a0.to_list(), }'\n",
    "        a1 = bob.loc[bob.sum(axis=1)>LENGTH, 'pos']\n",
    "        assert len(a1) == 0, f'placedProducts exceed LENGTH {*a1.to_list(), }'\n",
    "        a2 = bob.sort_values('pos')\n",
    "        a2 = bob.loc[bob['pos'] + bob['length'] > bob['pos'].shift(-1), 'pos']\n",
    "        assert len(a2)==0, f'overlapping placedProducts at positions {*a2.to_list(), }'\n",
    "        # check max defects OK\n",
    "        for pp in self.placedProducts:\n",
    "            defects_in_plate = self.defects.loc[(self.defects['x'] >= pp.position) & (self.defects['x'] <= pp.position + pp.product.length), \"class\"].to_list()\n",
    "            a3 = Counter(defects_in_plate)-Counter(pp.product.max_defects)\n",
    "            assert not a3, f\"plate at position {pp.position} contains too much defects of classes {*a3.keys(), }\"\n",
    "        print(\"solution valid\")"
   ]
  },
  {
   "cell_type": "markdown",
   "metadata": {},
   "source": [
    " demo OK with initial seeding"
   ]
  },
  {
   "cell_type": "code",
   "execution_count": 38,
   "metadata": {},
   "outputs": [
    {
     "name": "stdout",
     "output_type": "stream",
     "text": [
      "value 4\n",
      "solution valid\n"
     ]
    }
   ],
   "source": [
    "sol = Solution(defects)\n",
    "sol.add_product(\n",
    "    product=Products[0],\n",
    "    position=10\n",
    ")\n",
    "print('value', sol.compute_value())\n",
    "sol.checker()"
   ]
  },
  {
   "cell_type": "markdown",
   "metadata": {},
   "source": [
    " demo not OK cause overlap with previous plate"
   ]
  },
  {
   "cell_type": "code",
   "execution_count": 43,
   "metadata": {},
   "outputs": [
    {
     "name": "stdout",
     "output_type": "stream",
     "text": [
      "value 6\n",
      "solution valid\n"
     ]
    }
   ],
   "source": [
    "sol = Solution(defects)\n",
    "sol.add_product(\n",
    "    product=Products[3],\n",
    "    position=0\n",
    ")\n",
    "print('value', sol.compute_value())\n",
    "sol.checker()"
   ]
  },
  {
   "cell_type": "code",
   "execution_count": 44,
   "metadata": {},
   "outputs": [
    {
     "name": "stdout",
     "output_type": "stream",
     "text": [
      "value 12\n"
     ]
    },
    {
     "ename": "AssertionError",
     "evalue": "overlapping placedProducts at positions (0,)",
     "output_type": "error",
     "traceback": [
      "\u001b[1;31m---------------------------------------------------------------------------\u001b[0m",
      "\u001b[1;31mAssertionError\u001b[0m                            Traceback (most recent call last)",
      "\u001b[1;32m<ipython-input-44-f82547f35aa3>\u001b[0m in \u001b[0;36m<module>\u001b[1;34m\u001b[0m\n\u001b[0;32m      4\u001b[0m )\n\u001b[0;32m      5\u001b[0m \u001b[0mprint\u001b[0m\u001b[1;33m(\u001b[0m\u001b[1;34m'value'\u001b[0m\u001b[1;33m,\u001b[0m \u001b[0msol\u001b[0m\u001b[1;33m.\u001b[0m\u001b[0mcompute_value\u001b[0m\u001b[1;33m(\u001b[0m\u001b[1;33m)\u001b[0m\u001b[1;33m)\u001b[0m\u001b[1;33m\u001b[0m\u001b[1;33m\u001b[0m\u001b[0m\n\u001b[1;32m----> 6\u001b[1;33m \u001b[0msol\u001b[0m\u001b[1;33m.\u001b[0m\u001b[0mchecker\u001b[0m\u001b[1;33m(\u001b[0m\u001b[1;33m)\u001b[0m\u001b[1;33m\u001b[0m\u001b[1;33m\u001b[0m\u001b[0m\n\u001b[0m",
      "\u001b[1;32m<ipython-input-37-3d1df01a3ef4>\u001b[0m in \u001b[0;36mchecker\u001b[1;34m(self)\u001b[0m\n\u001b[0;32m     19\u001b[0m         \u001b[0ma2\u001b[0m \u001b[1;33m=\u001b[0m \u001b[0mbob\u001b[0m\u001b[1;33m.\u001b[0m\u001b[0msort_values\u001b[0m\u001b[1;33m(\u001b[0m\u001b[1;34m'pos'\u001b[0m\u001b[1;33m)\u001b[0m\u001b[1;33m\u001b[0m\u001b[1;33m\u001b[0m\u001b[0m\n\u001b[0;32m     20\u001b[0m         \u001b[0ma2\u001b[0m \u001b[1;33m=\u001b[0m \u001b[0mbob\u001b[0m\u001b[1;33m.\u001b[0m\u001b[0mloc\u001b[0m\u001b[1;33m[\u001b[0m\u001b[0mbob\u001b[0m\u001b[1;33m[\u001b[0m\u001b[1;34m'pos'\u001b[0m\u001b[1;33m]\u001b[0m \u001b[1;33m+\u001b[0m \u001b[0mbob\u001b[0m\u001b[1;33m[\u001b[0m\u001b[1;34m'length'\u001b[0m\u001b[1;33m]\u001b[0m \u001b[1;33m>\u001b[0m \u001b[0mbob\u001b[0m\u001b[1;33m[\u001b[0m\u001b[1;34m'pos'\u001b[0m\u001b[1;33m]\u001b[0m\u001b[1;33m.\u001b[0m\u001b[0mshift\u001b[0m\u001b[1;33m(\u001b[0m\u001b[1;33m-\u001b[0m\u001b[1;36m1\u001b[0m\u001b[1;33m)\u001b[0m\u001b[1;33m,\u001b[0m \u001b[1;34m'pos'\u001b[0m\u001b[1;33m]\u001b[0m\u001b[1;33m\u001b[0m\u001b[1;33m\u001b[0m\u001b[0m\n\u001b[1;32m---> 21\u001b[1;33m         \u001b[1;32massert\u001b[0m \u001b[0mlen\u001b[0m\u001b[1;33m(\u001b[0m\u001b[0ma2\u001b[0m\u001b[1;33m)\u001b[0m\u001b[1;33m==\u001b[0m\u001b[1;36m0\u001b[0m\u001b[1;33m,\u001b[0m \u001b[1;34mf'overlapping placedProducts at positions {*a2.to_list(), }'\u001b[0m\u001b[1;33m\u001b[0m\u001b[1;33m\u001b[0m\u001b[0m\n\u001b[0m\u001b[0;32m     22\u001b[0m         \u001b[1;31m# check max defects OK\u001b[0m\u001b[1;33m\u001b[0m\u001b[1;33m\u001b[0m\u001b[1;33m\u001b[0m\u001b[0m\n\u001b[0;32m     23\u001b[0m         \u001b[1;32mfor\u001b[0m \u001b[0mpp\u001b[0m \u001b[1;32min\u001b[0m \u001b[0mself\u001b[0m\u001b[1;33m.\u001b[0m\u001b[0mplacedProducts\u001b[0m\u001b[1;33m:\u001b[0m\u001b[1;33m\u001b[0m\u001b[1;33m\u001b[0m\u001b[0m\n",
      "\u001b[1;31mAssertionError\u001b[0m: overlapping placedProducts at positions (0,)"
     ]
    }
   ],
   "source": [
    "sol.add_product(\n",
    "    product=Products[3],\n",
    "    position=2\n",
    ")\n",
    "print('value', sol.compute_value())\n",
    "sol.checker()"
   ]
  },
  {
   "cell_type": "markdown",
   "metadata": {},
   "source": [
    " demo not OK because too much defects"
   ]
  },
  {
   "cell_type": "code",
   "execution_count": 46,
   "metadata": {},
   "outputs": [
    {
     "name": "stdout",
     "output_type": "stream",
     "text": [
      "value 1\n",
      "solution valid\n"
     ]
    }
   ],
   "source": [
    "sol = Solution(defects)\n",
    "sol.add_product(\n",
    "    product=Products[2],\n",
    "    position=5\n",
    ")\n",
    "print('value', sol.compute_value())\n",
    "sol.checker()"
   ]
  },
  {
   "cell_type": "markdown",
   "metadata": {},
   "source": [
    "## HELPERS<br>\n",
    "<br>\n",
    "Some functions that can be used build a solution"
   ]
  },
  {
   "cell_type": "code",
   "execution_count": null,
   "metadata": {},
   "outputs": [],
   "source": [
    "from functools import lru_cache\n",
    "from operator import itemgetter\n",
    "from collections import Counter"
   ]
  },
  {
   "cell_type": "markdown",
   "metadata": {},
   "source": [
    "helpers"
   ]
  },
  {
   "cell_type": "code",
   "execution_count": null,
   "metadata": {},
   "outputs": [],
   "source": [
    "def defects_counts(x: float, length: float) -> Counter:\n",
    "    \"\"\"\n",
    "    Count number of defects of each class on the ribbon [x, x+length]\n",
    "    return {defect class: number of defects}\n",
    "    \"\"\"\n",
    "    # filter index of defects within range\n",
    "    res = defects.loc[(defects[\"x\"] >= x) & (defects[\"x\"] <= x+length), \"class\"].to_list()\n",
    "    return Counter(res)"
   ]
  },
  {
   "cell_type": "markdown",
   "metadata": {},
   "source": [
    "if we start at x, a plate of length 7 will have quality: number"
   ]
  },
  {
   "cell_type": "code",
   "execution_count": null,
   "metadata": {},
   "outputs": [],
   "source": [
    "defects_counts(20, 7)"
   ]
  },
  {
   "cell_type": "code",
   "execution_count": null,
   "metadata": {},
   "outputs": [],
   "source": [
    "def contains(container: Counter, content: Counter) -> bool:\n",
    "    \"\"\"\n",
    "    check if all values of container are bigger than those of content.\n",
    "    Can compare <defects_counts> to products thresholds\n",
    "    \"\"\"\n",
    "    return not content - container"
   ]
  },
  {
   "cell_type": "code",
   "execution_count": null,
   "metadata": {},
   "outputs": [],
   "source": [
    "print(contains(Counter([1,1]), Counter([1])))\n",
    "print(contains(Counter([1,1]), Counter([1,2])))"
   ]
  },
  {
   "cell_type": "code",
   "execution_count": null,
   "metadata": {},
   "outputs": [],
   "source": [
    "def possible(x: float, p: Product) -> bool:\n",
    "    \"\"\"\n",
    "    return True product p is compatible with position x\n",
    "    \"\"\"\n",
    "    defects_present = defects_counts(x, p.length)\n",
    "    return contains(Counter(p.max_defects), defects_present)"
   ]
  },
  {
   "cell_type": "code",
   "execution_count": null,
   "metadata": {},
   "outputs": [],
   "source": [
    "possible(1, Products[0])"
   ]
  },
  {
   "cell_type": "markdown",
   "metadata": {},
   "source": [
    "example of solution creation from a list res = [(position first element, product first element), (position second element, product second element), ...]<br>\n",
    "es = [(,), (,), ...]<br>\n",
    "ol = Solution(defects)<br>\n",
    "or item in res:<br>\n",
    "   sol.add_product(item[1], item[0])<br>\n",
    "rint(sol.compute_value())<br>\n",
    "ol.checker()"
   ]
  }
 ],
 "metadata": {
  "kernelspec": {
   "display_name": "Python 3",
   "language": "python",
   "name": "python3"
  },
  "language_info": {
   "codemirror_mode": {
    "name": "ipython",
    "version": 3
   },
   "file_extension": ".py",
   "mimetype": "text/x-python",
   "name": "python",
   "nbconvert_exporter": "python",
   "pygments_lexer": "ipython3",
   "version": "3.8.10"
  }
 },
 "nbformat": 4,
 "nbformat_minor": 2
}
