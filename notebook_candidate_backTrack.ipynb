{
 "cells": [
  {
   "cell_type": "code",
   "execution_count": null,
   "metadata": {},
   "outputs": [],
   "source": [
    "#!/usr/bin/env python\n",
    "# coding: utf-8"
   ]
  },
  {
   "cell_type": "markdown",
   "metadata": {},
   "source": [
    "In[ ]:"
   ]
  },
  {
   "cell_type": "markdown",
   "metadata": {},
   "source": [
    "minimal requirements<br>\n",
    "python >= 3.6<br>\n",
    "pandas >= 1"
   ]
  },
  {
   "cell_type": "code",
   "execution_count": null,
   "metadata": {},
   "outputs": [],
   "source": [
    "import numpy as np\n",
    "import pandas as pd\n",
    "from typing import Dict\n",
    "from functools import lru_cache\n",
    "from operator import itemgetter\n",
    "from collections import Counter"
   ]
  },
  {
   "cell_type": "markdown",
   "metadata": {},
   "source": [
    "You have<br>\n",
    "* a ribbon of length 'LENGTH' meters (the problem is 1D).<br>\n",
    "* defects that lies on the ribbon. Each defect has<br>\n",
    "    * a position `x`<br>\n",
    "    * and a class [`a`, `b`, `c`, ...]<br>\n",
    "* set of available products. Each product can be produced an infinite number of times, and has:<br>\n",
    "    * a size (along the same dimension as the ribbon)<br>\n",
    "    * a value (see next paragraph)<br>\n",
    "    * and a threshold for the maximum number of defects of each size it can contains<br>\n",
    "<br>\n",
    "A solution is an affectation of products on the ribbon. An affectation, to be valid, need to be:<br>\n",
    "* at __integer positions__<br>\n",
    "* have no intersection between its products placement. If you place a product P1 of size 3, at position x=2, you cant have any product affected at positions `x=3` nor `x=4`.<br>\n",
    "* each product placed on the ribbon needs to contain less (or equal) defects of each class from the ribbon than authorized by its thresholds. A product P1 of size 3 placed at `x=2`, contains all defects of the ribbon which `x` is in `[2, 5]`. If in this interval, we have 3 defects of class `a`, and that threshold of P1 authorized maximum 2 defects of class `a`, the affectation is invalid<br>\n",
    "<br>\n",
    "The value of the solution is the sum of the value of the individual products placed on it. Part of the ribbon with no product affected amount to 0<br>\n",
    "<br>\n",
    "<br>\n",
    "Benchmark:<br>\n",
    "* this notebook generates random instances.<br>\n",
    "* if you run this cells in this order after the seeding (and without calling other randoms/re-executing cells), you can find a solution of value 358."
   ]
  },
  {
   "cell_type": "markdown",
   "metadata": {},
   "source": [
    "# Setup<br>\n",
    "## we define some fixed parameters and generate some random instances"
   ]
  },
  {
   "cell_type": "markdown",
   "metadata": {},
   "source": [
    "In[ ]:"
   ]
  },
  {
   "cell_type": "markdown",
   "metadata": {},
   "source": [
    "seed random for reproductibility of benchmark instance"
   ]
  },
  {
   "cell_type": "code",
   "execution_count": null,
   "metadata": {},
   "outputs": [],
   "source": [
    "np.random.seed(5)"
   ]
  },
  {
   "cell_type": "markdown",
   "metadata": {},
   "source": [
    "In[ ]:"
   ]
  },
  {
   "cell_type": "markdown",
   "metadata": {},
   "source": [
    "length of the glass ribbon to cut"
   ]
  },
  {
   "cell_type": "code",
   "execution_count": null,
   "metadata": {},
   "outputs": [],
   "source": [
    "LENGTH = 50"
   ]
  },
  {
   "cell_type": "markdown",
   "metadata": {},
   "source": [
    "## defects"
   ]
  },
  {
   "cell_type": "markdown",
   "metadata": {},
   "source": [
    "In[ ]:"
   ]
  },
  {
   "cell_type": "code",
   "execution_count": null,
   "metadata": {},
   "outputs": [],
   "source": [
    "n_defects = 50"
   ]
  },
  {
   "cell_type": "markdown",
   "metadata": {},
   "source": [
    "classe 1, classe 2 etc"
   ]
  },
  {
   "cell_type": "code",
   "execution_count": null,
   "metadata": {},
   "outputs": [],
   "source": [
    "n_defect_classes = 4\n",
    "assert n_defect_classes <= 26, \"too much defects classes\""
   ]
  },
  {
   "cell_type": "markdown",
   "metadata": {},
   "source": [
    "generates defects position"
   ]
  },
  {
   "cell_type": "code",
   "execution_count": null,
   "metadata": {},
   "outputs": [],
   "source": [
    "defects_x = np.random.uniform(0, LENGTH, (n_defects))"
   ]
  },
  {
   "cell_type": "markdown",
   "metadata": {},
   "source": [
    "generates their classes"
   ]
  },
  {
   "cell_type": "code",
   "execution_count": null,
   "metadata": {},
   "outputs": [],
   "source": [
    "defects_class = np.random.choice(\n",
    "    list('abcdefghijklmnopqrstuvwxyz'[:n_defect_classes]),\n",
    "    (n_defects)\n",
    ")"
   ]
  },
  {
   "cell_type": "markdown",
   "metadata": {},
   "source": [
    "summarize"
   ]
  },
  {
   "cell_type": "code",
   "execution_count": null,
   "metadata": {},
   "outputs": [],
   "source": [
    "defects = pd.DataFrame(\n",
    "    columns=['x', 'class'],\n",
    "    data = np.array([defects_x, defects_class]).T\n",
    ")\n",
    "defects['x'] = defects['x'].astype(float)\n",
    "defects.head(3).style.set_caption('extract of defects of the ribbon').format('{:,.2f}', subset='x')\n",
    "print(defects)"
   ]
  },
  {
   "cell_type": "markdown",
   "metadata": {},
   "source": [
    "## products"
   ]
  },
  {
   "cell_type": "markdown",
   "metadata": {},
   "source": [
    "In[ ]:"
   ]
  },
  {
   "cell_type": "code",
   "execution_count": null,
   "metadata": {},
   "outputs": [],
   "source": [
    "n_products = 4"
   ]
  },
  {
   "cell_type": "code",
   "execution_count": null,
   "metadata": {},
   "outputs": [],
   "source": [
    "class Product:\n",
    "    def __init__(self):\n",
    "        self.length: int = np.random.randint(4,10)\n",
    "        self.value: int = np.random.randint(1,10)\n",
    "        self.max_defects: Dict[int, int] = {\n",
    "            key: np.random.randint(1,5) for key in defects_class\n",
    "        }\n",
    "    def __repr__(self):\n",
    "        return f'Product of size {self.length}, value {self.value} and max_defects {self.max_defects}'\n",
    "    def representation(self):\n",
    "        return f'Product {Products.index(self)}'"
   ]
  },
  {
   "cell_type": "markdown",
   "metadata": {},
   "source": [
    "generate n_products random product (ie random size, value and threshold)"
   ]
  },
  {
   "cell_type": "code",
   "execution_count": null,
   "metadata": {},
   "outputs": [],
   "source": [
    "Products = [Product() for _ in range(n_products)]\n",
    "print('\\n * '.join([f'The {n_products} products are'] + [str(p) for p in Products]))"
   ]
  },
  {
   "cell_type": "markdown",
   "metadata": {},
   "source": [
    "## Solution structure<br>\n",
    "<br>\n",
    "The Solution class needs to be instantiated with the current \"defects\" you are using.<br>\n",
    "```python<br>\n",
    "current_solution = Solution(defects)<br>\n",
    "```<br>\n",
    "<br>\n",
    "You can create the Solution iteratively, by placing product `p` at position `position`, with the method<br>\n",
    "```python<br>\n",
    "current_solution.add_product(p, position)<br>\n",
    "```<br>\n",
    "<br>\n",
    "You can compute your current solution score with<br>\n",
    "```python<br>\n",
    "current_solution.compute_value()<br>\n",
    "```<br>\n",
    "<br>\n",
    "You can check if you dont have any invalidities with<br>\n",
    "```python<br>\n",
    "current_solution.checker()<br>\n",
    "```"
   ]
  },
  {
   "cell_type": "markdown",
   "metadata": {},
   "source": [
    "In[ ]:"
   ]
  },
  {
   "cell_type": "code",
   "execution_count": null,
   "metadata": {},
   "outputs": [],
   "source": [
    "class PlacedProduct:\n",
    "    \"\"\"\n",
    "    helper class representing a product placed on a position of the ribbon\n",
    "    \"\"\"\n",
    "    def __init__(self, product: Product, position: int):\n",
    "        self.product = product\n",
    "        self.position = position\n",
    "    def __repr__(self):\n",
    "        return f'{self.product.representation()} in position {self.position}'"
   ]
  },
  {
   "cell_type": "code",
   "execution_count": null,
   "metadata": {},
   "outputs": [],
   "source": [
    "class Solution:\n",
    "    def __init__(self, defects:pd.DataFrame):\n",
    "        self.placedProducts = []\n",
    "        self.defects = defects\n",
    "    def add_product(self, product: Product, position: int=0)->None:\n",
    "        self.placedProducts.append(PlacedProduct(product, position))\n",
    "    def remove_product(self)->None:\n",
    "        if self.placedProducts:\n",
    "            self.placedProducts.pop(len(self.placedProducts)-1)"
   ]
  },
  {
   "cell_type": "code",
   "execution_count": null,
   "metadata": {},
   "outputs": [],
   "source": [
    "    def compute_value(self):\n",
    "        return sum((pp.product.value for pp in self.placedProducts))\n",
    "    def __repr__(self):\n",
    "        return f'Solution {self.placedProducts} with computed value of {self.compute_value()}'\n",
    "    def checker(self, assertmessage = False)->bool:\n",
    "        bob = pd.DataFrame(\n",
    "            np.array([[pp.position for pp in self.placedProducts], [pp.product.length for pp in self.placedProducts]]).T,\n",
    "            columns=['pos', 'length']\n",
    "        )\n",
    "        bob = bob.sort_values('pos')\n",
    "        a0 = bob[np.floor(bob['pos']) < bob['pos']]\n",
    "        try:\n",
    "            assert len(a0) == 0, f'placedProducts at non integer positions {*a0.to_list(), }'\n",
    "        except AssertionError as e:\n",
    "            if assertmessage:\n",
    "                print(e)\n",
    "            return False\n",
    "        else:\n",
    "            a1 = bob.loc[bob.sum(axis=1)>LENGTH, 'pos']\n",
    "            try:\n",
    "                assert len(a1) == 0, f'placedProducts exceed LENGTH {*a1.to_list(), }'\n",
    "            except AssertionError as e:\n",
    "                if assertmessage:\n",
    "                    print(e)\n",
    "                return False\n",
    "            else:\n",
    "                a2 = bob.sort_values('pos')\n",
    "                a2 = bob.loc[bob['pos'] + bob['length'] > bob['pos'].shift(-1), 'pos']\n",
    "                try:\n",
    "                    assert len(a2)==0, f'overlapping placedProducts at positions {*a2.to_list(), }'\n",
    "                except AssertionError as e:\n",
    "                    if assertmessage:\n",
    "                        print(e)\n",
    "                    return False\n",
    "                else:\n",
    "                    # check max defects OK\n",
    "                    for pp in self.placedProducts:\n",
    "                        defects_in_plate = self.defects.loc[(self.defects['x'] >= pp.position) & (self.defects['x'] <= pp.position + pp.product.length), \"class\"].to_list()\n",
    "                        a3 = Counter(defects_in_plate)-Counter(pp.product.max_defects)\n",
    "                        try:\n",
    "                            assert not a3, f\"plate at position {pp.position} contains too much defects of classes {*a3.keys(), }\"\n",
    "                        except AssertionError as e:\n",
    "                            if assertmessage:\n",
    "                                print(e)\n",
    "                            return False\n",
    "                        else:\n",
    "                            return True"
   ]
  },
  {
   "cell_type": "markdown",
   "metadata": {},
   "source": [
    "In[ ]:"
   ]
  },
  {
   "cell_type": "markdown",
   "metadata": {},
   "source": [
    " demo OK with initial seeding"
   ]
  },
  {
   "cell_type": "code",
   "execution_count": null,
   "metadata": {},
   "outputs": [],
   "source": [
    "sol = Solution(defects)\n",
    "sol.add_product(\n",
    "    product=Products[0],\n",
    "    position=10\n",
    ")\n",
    "print('value', sol.compute_value())\n",
    "sol.checker(True)"
   ]
  },
  {
   "cell_type": "markdown",
   "metadata": {},
   "source": [
    "In[ ]:"
   ]
  },
  {
   "cell_type": "markdown",
   "metadata": {},
   "source": [
    " demo not OK cause overlap with previous plate"
   ]
  },
  {
   "cell_type": "code",
   "execution_count": null,
   "metadata": {},
   "outputs": [],
   "source": [
    "sol = Solution(defects)\n",
    "sol.add_product(\n",
    "    product=Products[3],\n",
    "    position=0\n",
    ")"
   ]
  },
  {
   "cell_type": "code",
   "execution_count": null,
   "metadata": {},
   "outputs": [],
   "source": [
    "sol.add_product(\n",
    "    product=Products[3],\n",
    "    position=2\n",
    ")\n",
    "print('value', sol.compute_value())\n",
    "sol.checker(True)"
   ]
  },
  {
   "cell_type": "markdown",
   "metadata": {},
   "source": [
    "In[ ]:"
   ]
  },
  {
   "cell_type": "markdown",
   "metadata": {},
   "source": [
    " demo not OK because too much defects"
   ]
  },
  {
   "cell_type": "code",
   "execution_count": null,
   "metadata": {},
   "outputs": [],
   "source": [
    "sol = Solution(defects)\n",
    "sol.add_product(\n",
    "    product=Products[2],\n",
    "    position=5\n",
    ")\n",
    "print('value', sol.compute_value())\n",
    "sol.checker(True)"
   ]
  },
  {
   "cell_type": "markdown",
   "metadata": {},
   "source": [
    "## HELPERS<br>\n",
    "<br>\n",
    "Some functions that can be used build a solution"
   ]
  },
  {
   "cell_type": "markdown",
   "metadata": {},
   "source": [
    "In[ ]:"
   ]
  },
  {
   "cell_type": "code",
   "execution_count": null,
   "metadata": {},
   "outputs": [],
   "source": [
    "from functools import lru_cache\n",
    "from operator import itemgetter\n",
    "from collections import Counter"
   ]
  },
  {
   "cell_type": "markdown",
   "metadata": {},
   "source": [
    "In[ ]:"
   ]
  },
  {
   "cell_type": "code",
   "execution_count": null,
   "metadata": {},
   "outputs": [],
   "source": [
    "def defects_remaining(x: float) -> int:\n",
    "    \"\"\"\n",
    "    Count number of defects of each class on the ribbon [x, x+length]\n",
    "    return {defect class: number of defects}\n",
    "    \"\"\"\n",
    "    # filter index of defects within range\n",
    "    res = defects.loc[(defects[\"x\"] >= x), \"class\"].count()\n",
    "    return res"
   ]
  },
  {
   "cell_type": "markdown",
   "metadata": {},
   "source": [
    "helpers"
   ]
  },
  {
   "cell_type": "code",
   "execution_count": null,
   "metadata": {},
   "outputs": [],
   "source": [
    "def defects_counts(x: float, length: float) -> Counter:\n",
    "    \"\"\"\n",
    "    Count number of defects of each class on the ribbon [x, x+length]\n",
    "    return {defect class: number of defects}\n",
    "    \"\"\"\n",
    "    # filter index of defects within range\n",
    "    res = defects.loc[(defects[\"x\"] >= x) & (defects[\"x\"] <= x+length), \"class\"].to_list()\n",
    "    return Counter(res)"
   ]
  },
  {
   "cell_type": "markdown",
   "metadata": {},
   "source": [
    "if we start at x, a plate of length 7 will have quality: number"
   ]
  },
  {
   "cell_type": "code",
   "execution_count": null,
   "metadata": {},
   "outputs": [],
   "source": [
    "defects_counts(20, 7)"
   ]
  },
  {
   "cell_type": "markdown",
   "metadata": {},
   "source": [
    "In[ ]:"
   ]
  },
  {
   "cell_type": "code",
   "execution_count": null,
   "metadata": {},
   "outputs": [],
   "source": [
    "def contains(container: Counter, content: Counter) -> bool:\n",
    "    \"\"\"\n",
    "    check if all values of container are bigger than those of content.\n",
    "    Can compare <defects_counts> to products thresholds\n",
    "    \"\"\"\n",
    "    return not content - container"
   ]
  },
  {
   "cell_type": "markdown",
   "metadata": {},
   "source": [
    "print(contains(Counter([1,1]), Counter([1])))<br>\n",
    "print(contains(Counter([1,1]), Counter([1,2])))"
   ]
  },
  {
   "cell_type": "markdown",
   "metadata": {},
   "source": [
    "In[ ]:"
   ]
  },
  {
   "cell_type": "code",
   "execution_count": null,
   "metadata": {},
   "outputs": [],
   "source": [
    "def possible(x: float, p: Product) -> bool:\n",
    "    \"\"\"\n",
    "    return True product p is compatible with position x\n",
    "    \"\"\"\n",
    "    defects_present = defects_counts(x, p.length)\n",
    "    return contains(Counter(p.max_defects), defects_present)"
   ]
  },
  {
   "cell_type": "code",
   "execution_count": null,
   "metadata": {},
   "outputs": [],
   "source": [
    "possible(1, Products[0])"
   ]
  },
  {
   "cell_type": "markdown",
   "metadata": {},
   "source": [
    "In[ ]:"
   ]
  },
  {
   "cell_type": "code",
   "execution_count": null,
   "metadata": {},
   "outputs": [],
   "source": [
    "print(\"-----\")"
   ]
  },
  {
   "cell_type": "code",
   "execution_count": null,
   "metadata": {},
   "outputs": [],
   "source": [
    "solutions = []\n",
    "with_optimization = True"
   ]
  },
  {
   "cell_type": "code",
   "execution_count": null,
   "metadata": {},
   "outputs": [],
   "source": [
    "@lru_cache()\n",
    "def backtrack(solution, pos):\n",
    "    #if solution.checker():\n",
    "    if defects_remaining(pos) == 0 and solution.checker():\n",
    "        if with_optimization:\n",
    "            if solutions:\n",
    "                previous_solution = solutions[0][1]\n",
    "                if solution.compute_value() < previous_solution:\n",
    "                    solutions.pop()\n",
    "                    solutions.append([str(solution), int(solution.compute_value())])\n",
    "            else:\n",
    "                solutions.append([str(solution), int(solution.compute_value())])\n",
    "        else:\n",
    "            solutions.append([str(solution), int(solution.compute_value())])\n",
    "        return\n",
    "    for product in Products:\n",
    "        if possible(pos, product):\n",
    "            solution.add_product(product, pos)\n",
    "            if solution.checker():\n",
    "                backtrack(solution, pos + product.length)\n",
    "            solution.remove_product()"
   ]
  },
  {
   "cell_type": "code",
   "execution_count": null,
   "metadata": {},
   "outputs": [],
   "source": [
    "sol = Solution(defects)\n",
    "backtrack(sol, 0)\n",
    "print(solutions)\n",
    "# In[ ]:"
   ]
  },
  {
   "cell_type": "markdown",
   "metadata": {},
   "source": [
    "example of solution creation from a list res = [(position first element, product first element), (position second element, product second element), ...]<br>\n",
    "es = [(Products[3],2)]<br>\n",
    "ol = Solution(defects)<br>\n",
    "or item in res:<br>\n",
    "   sol.add_product(item[0], item[1])<br>\n",
    "rint(sol.compute_value())<br>\n",
    "ol.checker()"
   ]
  },
  {
   "cell_type": "markdown",
   "metadata": {},
   "source": [
    "In[ ]:"
   ]
  }
 ],
 "metadata": {
  "kernelspec": {
   "display_name": "Python 3",
   "language": "python",
   "name": "python3"
  },
  "language_info": {
   "codemirror_mode": {
    "name": "ipython",
    "version": 3
   },
   "file_extension": ".py",
   "mimetype": "text/x-python",
   "name": "python",
   "nbconvert_exporter": "python",
   "pygments_lexer": "ipython3",
   "version": "3.8.10"
  }
 },
 "nbformat": 4,
 "nbformat_minor": 2
}
