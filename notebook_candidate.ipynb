{
 "cells": [
  {
   "cell_type": "code",
   "execution_count": null,
   "metadata": {},
   "outputs": [],
   "source": [
    "# minimal requirements\n",
    "# python >= 3.6\n",
    "# pandas >= 1\n",
    "\n",
    "import numpy as np\n",
    "import pandas as pd\n",
    "from typing import Dict\n",
    "from functools import lru_cache \n",
    "from operator import itemgetter\n",
    "from collections import Counter"
   ]
  },
  {
   "cell_type": "markdown",
   "metadata": {},
   "source": [
    "You have\n",
    "* a ribbon of length 'LENGTH' meters (the problem is 1D).\n",
    "* defects that lies on the ribbon. Each defect has \n",
    "    * a position `x`\n",
    "    * and a class [`a`, `b`, `c`, ...]\n",
    "* set of available products. Each product can be produced an infinite number of times, and has:\n",
    "    * a size (along the same dimension as the ribbon)\n",
    "    * a value (see next paragraph)\n",
    "    * and a threshold for the maximum number of defects of each size it can contains\n",
    "\n",
    "A solution is an affectation of products on the ribbon. An affectation, to be valid, need to be:\n",
    "* at __integer positions__\n",
    "* have no intersection between its products placement. If you place a product P1 of size 3, at position x=2, you cant have any product affected at positions `x=3` nor `x=4`.\n",
    "* each product placed on the ribbon needs to contain less (or equal) defects of each class from the ribbon than authorized by its thresholds. A product P1 of size 3 placed at `x=2`, contains all defects of the ribbon which `x` is in `[2, 5]`. If in this interval, we have 3 defects of class `a`, and that threshold of P1 authorized maximum 2 defects of class `a`, the affectation is invalid\n",
    "\n",
    "The value of the solution is the sum of the value of the individual products placed on it. Part of the ribbon with no product affected amount to 0\n",
    "\n",
    "\n",
    "Benchmark:\n",
    "* this notebook generates random instances.\n",
    "* if you run this cells in this order after the seeding (and without calling other randoms/re-executing cells), you can find a solution of value 358."
   ]
  },
  {
   "cell_type": "markdown",
   "metadata": {},
   "source": [
    "# Setup\n",
    "## we define some fixed parameters and generate some random instances"
   ]
  },
  {
   "cell_type": "code",
   "execution_count": null,
   "metadata": {},
   "outputs": [],
   "source": [
    "# seed random for reproductibility of benchmark instance\n",
    "np.random.seed(5)"
   ]
  },
  {
   "cell_type": "code",
   "execution_count": null,
   "metadata": {},
   "outputs": [],
   "source": [
    "# length of the glass ribbon to cut\n",
    "LENGTH = 500"
   ]
  },
  {
   "cell_type": "markdown",
   "metadata": {},
   "source": [
    "## defects"
   ]
  },
  {
   "cell_type": "code",
   "execution_count": null,
   "metadata": {},
   "outputs": [],
   "source": [
    "n_defects = 500\n",
    "\n",
    "# classe 1, classe 2 etc\n",
    "n_defect_classes = 4\n",
    "assert n_defect_classes <= 26, \"too much defects classes\"\n",
    "\n",
    "# generates defects position\n",
    "defects_x = np.random.uniform(0, LENGTH, (n_defects))\n",
    "\n",
    "# generates their classes\n",
    "defects_class = np.random.choice(\n",
    "    list('abcdefghijklmnopqrstuvwxyz'[:n_defect_classes]),\n",
    "    (n_defects)\n",
    ")\n",
    "\n",
    "# summarize\n",
    "defects = pd.DataFrame(\n",
    "    columns=['x', 'class'],\n",
    "    data = np.array([defects_x, defects_class]).T\n",
    ")\n",
    "defects['x'] = defects['x'].astype(float)\n",
    "defects.head(3).style.set_caption('extract of defects of the ribbon').format('{:,.2f}', subset='x')"
   ]
  },
  {
   "cell_type": "markdown",
   "metadata": {},
   "source": [
    "## products"
   ]
  },
  {
   "cell_type": "code",
   "execution_count": null,
   "metadata": {},
   "outputs": [],
   "source": [
    "n_products = 4\n",
    "\n",
    "class Product:\n",
    "\n",
    "    def __init__(self):\n",
    "        self.length: int = np.random.randint(4,10)\n",
    "        self.value: int = np.random.randint(1,10)\n",
    "        self.max_defects: Dict[int, int] = {\n",
    "            key: np.random.randint(1,5) for key in defects_class\n",
    "        }\n",
    "\n",
    "    def __repr__(self):\n",
    "        return f'Product of size {self.length}, value {self.value} and max_defects {self.max_defects}'\n",
    "\n",
    "\n",
    "# generate n_products random product (ie random size, value and threshold)\n",
    "Products = [Product() for _ in range(n_products)]\n",
    "print('\\n * '.join([f'The {n_products} products are'] + [str(p) for p in Products]))"
   ]
  },
  {
   "cell_type": "markdown",
   "metadata": {},
   "source": [
    "## Solution structure\n",
    "\n",
    "The Solution class needs to be instantiated with the current \"defects\" you are using.\n",
    "```python\n",
    "current_solution = Solution(defects)\n",
    "```\n",
    "\n",
    "You can create the Solution iteratively, by placing product `p` at position `position`, with the method \n",
    "```python\n",
    "current_solution.add_product(p, position)\n",
    "```\n",
    "\n",
    "You can compute your current solution score with\n",
    "```python\n",
    "current_solution.compute_value()\n",
    "```\n",
    "\n",
    "You can check if you dont have any invalidities with\n",
    "```python\n",
    "current_solution.checker()\n",
    "```"
   ]
  },
  {
   "cell_type": "code",
   "execution_count": null,
   "metadata": {},
   "outputs": [],
   "source": [
    "class PlacedProduct:\n",
    "    \"\"\"\n",
    "    helper class representing a product placed on a position of the ribbon\n",
    "    \"\"\"\n",
    "    def __init__(self, product: Product, position: int):\n",
    "        self.product = product\n",
    "        self.position = position\n",
    "\n",
    "class Solution:\n",
    "    def __init__(self, defects:pd.DataFrame):\n",
    "        self.placedProducts = []\n",
    "        self.defects = defects\n",
    "\n",
    "    def add_product(self, product: Product, position: int=0)->None:\n",
    "        self.placedProducts.append(PlacedProduct(product, position))\n",
    "\n",
    "    def compute_value(self):\n",
    "        return sum((pp.product.value for pp in self.placedProducts))\n",
    "\n",
    "    def checker(self):\n",
    "        bob = pd.DataFrame(\n",
    "            np.array([[pp.position for pp in self.placedProducts], [pp.product.length for pp in self.placedProducts]]).T,\n",
    "            columns=['pos', 'length']\n",
    "        )\n",
    "        bob = bob.sort_values('pos')\n",
    "\n",
    "        a0 = bob[np.floor(bob['pos']) < bob['pos']]\n",
    "        assert len(a0) == 0, f'placedProducts at non integer positions {*a0.to_list(), }'\n",
    "\n",
    "        a1 = bob.loc[bob.sum(axis=1)>LENGTH, 'pos']\n",
    "        assert len(a1) == 0, f'placedProducts exceed LENGTH {*a1.to_list(), }'\n",
    "\n",
    "        a2 = bob.sort_values('pos')\n",
    "        a2 = bob.loc[bob['pos'] + bob['length'] > bob['pos'].shift(-1), 'pos']\n",
    "        assert len(a2)==0, f'overlapping placedProducts at positions {*a2.to_list(), }'\n",
    "\n",
    "\n",
    "        # check max defects OK\n",
    "        for pp in self.placedProducts:\n",
    "            defects_in_plate = self.defects.loc[(self.defects['x'] >= pp.position) & (self.defects['x'] <= pp.position + pp.product.length), \"class\"].to_list()\n",
    "            a3 = Counter(defects_in_plate)-Counter(pp.product.max_defects)\n",
    "            assert not a3, f\"plate at position {pp.position} contains too much defects of classes {*a3.keys(), }\"\n",
    "\n",
    "\n",
    "        print(\"solution valid\")"
   ]
  },
  {
   "cell_type": "code",
   "execution_count": null,
   "metadata": {},
   "outputs": [],
   "source": [
    "## demo OK with initial seeding\n",
    "sol = Solution(defects)\n",
    "sol.add_product(\n",
    "    product=Products[0],\n",
    "    position=10\n",
    ")\n",
    "print('value', sol.compute_value())\n",
    "sol.checker()"
   ]
  },
  {
   "cell_type": "code",
   "execution_count": null,
   "metadata": {},
   "outputs": [],
   "source": [
    "## demo not OK cause overlap with previous plate\n",
    "sol = Solution(defects)\n",
    "sol.add_product(\n",
    "    product=Products[3],\n",
    "    position=0\n",
    ")\n",
    "\n",
    "sol.add_product(\n",
    "    product=Products[3],\n",
    "    position=2\n",
    ")\n",
    "print('value', sol.compute_value())\n",
    "sol.checker()"
   ]
  },
  {
   "cell_type": "code",
   "execution_count": null,
   "metadata": {},
   "outputs": [],
   "source": [
    "## demo not OK because too much defects\n",
    "sol = Solution(defects)\n",
    "sol.add_product(\n",
    "    product=Products[2],\n",
    "    position=5\n",
    ")\n",
    "print('value', sol.compute_value())\n",
    "sol.checker()"
   ]
  },
  {
   "cell_type": "markdown",
   "metadata": {},
   "source": [
    "## HELPERS\n",
    "\n",
    "Some functions that can be used build a solution"
   ]
  },
  {
   "cell_type": "code",
   "execution_count": null,
   "metadata": {},
   "outputs": [],
   "source": [
    "from functools import lru_cache \n",
    "from operator import itemgetter\n",
    "from collections import Counter"
   ]
  },
  {
   "cell_type": "code",
   "execution_count": null,
   "metadata": {},
   "outputs": [],
   "source": [
    "# helpers\n",
    "def defects_counts(x: float, length: float) -> Counter:\n",
    "    \"\"\"\n",
    "    Count number of defects of each class on the ribbon [x, x+length]\n",
    "    return {defect class: number of defects}\n",
    "    \"\"\"\n",
    "    # filter index of defects within range\n",
    "    res = defects.loc[(defects[\"x\"] >= x) & (defects[\"x\"] <= x+length), \"class\"].to_list()\n",
    "\n",
    "    return Counter(res)\n",
    "    \n",
    "# if we start at x, a plate of length 7 will have quality: number         \n",
    "defects_counts(20, 7)"
   ]
  },
  {
   "cell_type": "code",
   "execution_count": null,
   "metadata": {},
   "outputs": [],
   "source": [
    "def contains(container: Counter, content: Counter) -> bool:\n",
    "    \"\"\"\n",
    "    check if all values of container are bigger than those of content.\n",
    "    Can compare <defects_counts> to products thresholds\n",
    "    \"\"\"\n",
    "    return not content - container\n",
    "\n",
    "print(contains(Counter([1,1]), Counter([1])))\n",
    "print(contains(Counter([1,1]), Counter([1,2])))"
   ]
  },
  {
   "cell_type": "code",
   "execution_count": null,
   "metadata": {},
   "outputs": [],
   "source": [
    "def possible(x: float, p: Product) -> bool:\n",
    "    \"\"\"\n",
    "    return True product p is compatible with position x\n",
    "    \"\"\"\n",
    "    defects_present = defects_counts(x, p.length)\n",
    "    return contains(Counter(p.max_defects), defects_present)\n",
    "\n",
    "\n",
    "possible(1, Products[0])"
   ]
  },
  {
   "cell_type": "code",
   "execution_count": null,
   "metadata": {},
   "outputs": [],
   "source": [
    "# example of solution creation from a list res = [(position first element, product first element), (position second element, product second element), ...]\n",
    "res = [(,), (,), ...]\n",
    "sol = Solution(defects)\n",
    "for item in res:\n",
    "    sol.add_product(item[1], item[0])\n",
    "print(sol.compute_value())\n",
    "sol.checker()"
   ]
  },
  {
   "cell_type": "code",
   "execution_count": null,
   "metadata": {},
   "outputs": [],
   "source": []
  }
 ],
 "metadata": {
  "interpreter": {
   "hash": "f74ffe74e57b76c7bc583abc5a36dffe5e335e83751e2acee9098b9ca28080cc"
  },
  "kernelspec": {
   "display_name": "Python 3 (ipykernel)",
   "language": "python",
   "name": "python3"
  },
  "language_info": {
   "codemirror_mode": {
    "name": "ipython",
    "version": 3
   },
   "file_extension": ".py",
   "mimetype": "text/x-python",
   "name": "python",
   "nbconvert_exporter": "python",
   "pygments_lexer": "ipython3",
   "version": "3.9.7"
  }
 },
 "nbformat": 4,
 "nbformat_minor": 2
}
